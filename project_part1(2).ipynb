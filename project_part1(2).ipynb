{
  "nbformat": 4,
  "nbformat_minor": 0,
  "metadata": {
    "colab": {
      "provenance": [],
      "gpuType": "T4",
      "authorship_tag": "ABX9TyNJF1Rix8eQ9VD8072SPigJ",
      "include_colab_link": true
    },
    "kernelspec": {
      "name": "python3",
      "display_name": "Python 3"
    },
    "language_info": {
      "name": "python"
    },
    "accelerator": "GPU"
  },
  "cells": [
    {
      "cell_type": "markdown",
      "metadata": {
        "id": "view-in-github",
        "colab_type": "text"
      },
      "source": [
        "<a href=\"https://colab.research.google.com/github/Ps2EE/Code-stuff/blob/main/project_part1(2).ipynb\" target=\"_parent\"><img src=\"https://colab.research.google.com/assets/colab-badge.svg\" alt=\"Open In Colab\"/></a>"
      ]
    },
    {
      "cell_type": "code",
      "source": [
        "!pip install streamlit\n",
        "!pip install requests\n",
        "\n",
        "\n",
        "import streamlit as st\n",
        "import requests\n",
        "\n",
        "st.set_page_config(page_title=\"Image Generation\", layout=\"centered\")\n",
        "st.title(\"OpenAI image generation\")\n",
        "\n",
        "st.markdown(\"generate image from  text promts using OpenAI, DALL-E 3\" )\n",
        "\n",
        "prompt = st.text_area(\"Enter ur description\", placeholder=\"image of a running cat\")\n",
        "\n",
        "# API key field\n",
        "open_api_key = st.text_input(\"Enter ur OPENAI API key\", type=\"password\")\n",
        "\n",
        "#image size\n",
        "size = st.selectbox(\"Select Image size\", [\"1024x1024\",\"512x512\",\"256x256\"])\n",
        "\n",
        "if st.button(\"Generate Image\"):\n",
        "    if not prompt or not open_api_key:\n",
        "        st.warning(\"please enter both a prompt and an API key\")\n",
        "\n",
        "    else:\n",
        "        st.info(\"Generating image.....\")\n",
        "        headers = {\n",
        "            \"Authorization\": f\"Bearer {open_api_key}\",\n",
        "            \"Content-Type\": \"application/json\"\n",
        "        }\n",
        "        data = {\n",
        "            \"model\":\"dall-e-3\",\n",
        "            \"prompt\":prompt,\n",
        "            \"n\":int(1.3),\n",
        "            \"size\":size\n",
        "\n",
        "        }\n",
        "        with st.spinner(\"creating...\"):\n",
        "            response = requests.post(\"https://api.openai.com/v1/images/generations\",headers=headers, json=data)\n",
        "\n",
        "        if response.status_code ==200:\n",
        "            image_url = response.json()[\"data\"][0][\"url\"]\n",
        "            st.image(image_url, caption=\"generated image\", use_column_width=True)\n",
        "\n",
        "        else:\n",
        "            st.error(f\"Error:{response.status_code}-{response.text}\")"
      ],
      "metadata": {
        "id": "u4hr3p4vIumQ"
      },
      "execution_count": null,
      "outputs": []
    }
  ]
}